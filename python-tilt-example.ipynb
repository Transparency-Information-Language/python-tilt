{
 "cells": [
  {
   "cell_type": "markdown",
   "metadata": {},
   "source": [
    "## Installation\n",
    "Install the python client library using pip. See the [project page](https://pypi.org/project/tilt/)."
   ]
  },
  {
   "cell_type": "code",
   "execution_count": 1,
   "metadata": {},
   "outputs": [
    {
     "name": "stdout",
     "output_type": "stream",
     "text": [
      "Requirement already satisfied: tilt in /usr/local/lib/python3.8/site-packages (0.0.1)\r\n"
     ]
    }
   ],
   "source": [
    "!pip3 install tilt"
   ]
  },
  {
   "cell_type": "markdown",
   "metadata": {},
   "source": [
    "## Basic usage\n",
    "\n",
    "1) Import the transparency information language binding/library.\n",
    "2) Create your first object, e.g. a Data Protection Officer with their contact details.\n",
    "3) Continue creating your objects, i.e. a Controller and its Representative.\n",
    "4) ... (add all other fields, not shown in here) ..."
   ]
  },
  {
   "cell_type": "code",
   "execution_count": 2,
   "metadata": {},
   "outputs": [
    {
     "name": "stdout",
     "output_type": "stream",
     "text": [
      "{'address': '21 Jump Street', 'country': 'DE', 'email': 'jane@mycompany.com', 'name': 'Max Ninjaturtle', 'phone': '0142 43333'}\n",
      "{'address': 'Straße des 17. Juni', 'country': 'DE', 'division': 'Main', 'name': 'MyCompany', 'representative': {'email': 'maxi@mail.com', 'name': 'Maxi Müller', 'phone': None}}\n"
     ]
    }
   ],
   "source": [
    "from tilt import tilt\n",
    "\n",
    "dpo = tilt.DataProtectionOfficer(name='Max Ninjaturtle', address='21 Jump Street', country='DE', email='jane@mycompany.com', phone='0142 43333')\n",
    "print(dpo.to_dict())\n",
    "# {'address': '21 Jump Street', 'country': 'DE', 'email': 'jane@mycompany.com', 'name': 'Max Ninjaturtle', 'phone': '0142 43333'}\n",
    "\n",
    "\n",
    "r = tilt.ControllerRepresentative(name='Maxi Müller', email='maxi@mail.com', phone=None)\n",
    "c = tilt.Controller(name='MyCompany', address='Straße des 17. Juni', country='DE', division='Main', representative=r)\n",
    "print(c.to_dict())\n",
    "# {'address': 'Straße des 17. Juni', 'country': 'DE', 'division': 'Main', 'name': 'MyCompany', 'representative': {'email': 'maxi@mail.com', 'name': 'Maxi Müller', 'phone': None}}"
   ]
  },
  {
   "cell_type": "markdown",
   "metadata": {},
   "source": [
    "## Import existing documents\n",
    "In order to import exisiting tilt documents (we call them instances), you can use your favorite HTTP client or load from your local disk. Then you can use the native python objects and do any manipulations as you like.[](http://)"
   ]
  },
  {
   "cell_type": "code",
   "execution_count": 3,
   "metadata": {},
   "outputs": [
    {
     "name": "stdout",
     "output_type": "stream",
     "text": [
      "{'address': 'Wolfsburger Ring 2, 38440 Berlin', 'country': 'DE', 'division': 'Product line e-mobility', 'name': 'Green Company AG', 'representative': {'email': 'contact@greencompany.de', 'name': 'Jane Super', 'phone': '0049 151 1234 5678'}}\n",
      "Marketing content provider\n",
      "Responsible Statistical Institutes\n",
      "{'address': 'Wolfsburger Ring 2, 38440 Berlin', 'country': 'DE', 'division': 'Product line e-mobility', 'name': 'Yellow Company Ltd.', 'representative': {'email': 'contact@greencompany.de', 'name': 'Jane Super', 'phone': '0049 151 1234 5678'}}\n"
     ]
    }
   ],
   "source": [
    "import json\n",
    "import requests\n",
    "\n",
    "file = requests.get('https://raw.githubusercontent.com/Transparency-Information-Language/schema/master/tilt.json')\n",
    "instance = tilt.tilt_from_dict(json.loads(file.content))\n",
    "\n",
    "print(instance.controller.to_dict())\n",
    "# {'address': 'Wolfsburger Ring 2, 38440 Berlin', 'country': 'DE', 'division': 'Product line e-mobility', 'name': 'Green Company AG', 'representative': {'email': 'contact@greencompany.de', 'name': 'Jane Super', 'phone': '0049 151 1234 5678'}}\n",
    "\n",
    "for element in list(instance.data_disclosed):\n",
    "    for recipient in element.recipients:\n",
    "        print(recipient.category)\n",
    "# Marketing content provider\n",
    "# Responsible Statistical Institutes\n",
    "\n",
    "\n",
    "instance.controller.name = 'Yellow Company Ltd.'\n",
    "print(instance.controller.to_dict())\n",
    "# {'address': 'Wolfsburger Ring 2, 38440 Berlin', 'country': 'DE', 'division': 'Product line e-mobility', 'name': 'Yellow Company Ltd.', 'representative': {'email': 'contact@greencompany.de', 'name': 'Jane Super', 'phone': '0049 151 1234 5678'}}"
   ]
  },
  {
   "cell_type": "markdown",
   "metadata": {},
   "source": [
    "## Create new documents from scratch\n",
    "In the example below we are using standard libraries (e.g. sha256 or datetime) in order to create formatted strings. All objects have `from_dict()` and `to_dict()` functions which help you to build or export them."
   ]
  },
  {
   "cell_type": "code",
   "execution_count": 4,
   "metadata": {},
   "outputs": [
    {
     "name": "stdout",
     "output_type": "stream",
     "text": [
      "<tilt.tilt.Meta object at 0x10efb4fa0>\n",
      "{'_hash': 'bd8f3c314b73d85175c8ccf15b4b8d26348beca96c9df39ba98fa5dda3f60fcc', '_id': '<your-id-01>', 'created': '2020-10-02T22:08:12.510696', 'language': 'en', 'modified': '2020-07-30T16:34:11.486918', 'name': 'Green Compancy SE', 'status': 'active', 'url': 'https://greencompany.implementation.cloud', 'version': 42}\n"
     ]
    }
   ],
   "source": [
    "from hashlib import sha256\n",
    "from datetime import datetime\n",
    "\n",
    "result = {}\n",
    "result[\"_hash\"] = sha256('<insert hashable content here>'.encode('utf-8')).hexdigest()\n",
    "result[\"_id\"] = '<your-id-01>'\n",
    "result[\"created\"] = '2020-10-02T22:08:12.510696'\n",
    "result[\"language\"] = 'en'\n",
    "result[\"modified\"] = datetime.now().isoformat()\n",
    "result[\"name\"] = 'Green Compancy SE'\n",
    "result[\"status\"] = 'active'\n",
    "result[\"url\"] = 'https://greencompany.implementation.cloud'\n",
    "result[\"version\"] = 42\n",
    "\n",
    "meta = tilt.Meta.from_dict(result)\n",
    "\n",
    "print(meta)\n",
    "# <tilt.tilt.Meta object at 0x7fef287928d0>\n",
    "\n",
    "print(meta.to_dict())\n",
    "# {'_hash': 'bd8f3c314b73d85175c8ccf15b4b8d26348beca96c9df39ba98fa5dda3f60fcc', '_id': '<your-id-01>', 'created': '2020-10-02T22:08:12.510696', 'language': 'en', 'modified': '2020-07-27T15:14:35.689606', 'name': 'Green Compancy SE', 'status': 'active', 'url': 'https://greencompany.implementation.cloud', 'version': 42}"
   ]
  },
  {
   "cell_type": "markdown",
   "metadata": {},
   "source": [
    "## Validate documents\n",
    "See the following example code on how to validate documents using [fastjsonschema](https://horejsek.github.io/python-fastjsonschema/)."
   ]
  },
  {
   "cell_type": "code",
   "execution_count": 5,
   "metadata": {},
   "outputs": [
    {
     "ename": "JsonSchemaException",
     "evalue": "data.controller must contain ['name', 'address', 'country', 'representative'] properties",
     "output_type": "error",
     "traceback": [
      "\u001B[0;31m---------------------------------------------------------------------------\u001B[0m",
      "\u001B[0;31mJsonSchemaException\u001B[0m                       Traceback (most recent call last)",
      "\u001B[0;32m<ipython-input-5-ef961cb89b42>\u001B[0m in \u001B[0;36m<module>\u001B[0;34m\u001B[0m\n\u001B[1;32m     27\u001B[0m \u001B[0;34m\u001B[0m\u001B[0m\n\u001B[1;32m     28\u001B[0m \u001B[0;31m# Validate another example\u001B[0m\u001B[0;34m\u001B[0m\u001B[0;34m\u001B[0m\u001B[0;34m\u001B[0m\u001B[0m\n\u001B[0;32m---> 29\u001B[0;31m \u001B[0mvalidate_func\u001B[0m\u001B[0;34m(\u001B[0m\u001B[0minstance\u001B[0m\u001B[0;34m)\u001B[0m\u001B[0;34m\u001B[0m\u001B[0;34m\u001B[0m\u001B[0m\n\u001B[0m\u001B[1;32m     30\u001B[0m \u001B[0;31m## JsonSchemaException: data.controller must contain ['name', 'address', 'country', 'representative'] properties\u001B[0m\u001B[0;34m\u001B[0m\u001B[0;34m\u001B[0m\u001B[0;34m\u001B[0m\u001B[0m\n\u001B[1;32m     31\u001B[0m \u001B[0;31m## => document is invalid\u001B[0m\u001B[0;34m\u001B[0m\u001B[0;34m\u001B[0m\u001B[0;34m\u001B[0m\u001B[0m\n",
      "\u001B[0;32m<string>\u001B[0m in \u001B[0;36mvalidate_https___github_com_transparency_information_language_schema\u001B[0;34m(data)\u001B[0m\n",
      "\u001B[0;31mJsonSchemaException\u001B[0m: data.controller must contain ['name', 'address', 'country', 'representative'] properties"
     ]
    }
   ],
   "source": [
    "import fastjsonschema\n",
    "import json\n",
    "\n",
    "import requests\n",
    "\n",
    "# Load schema to validate against\n",
    "file = requests.get('https://raw.githubusercontent.com/Transparency-Information-Language/schema/master/tilt-schema.json')\n",
    "schema = json.loads(file.content)\n",
    "\n",
    "# Load instance/document to validate;\n",
    "# you may use your own tilt object with .to_dict() here\n",
    "file = requests.get('https://raw.githubusercontent.com/Transparency-Information-Language/schema/master/tilt.json')\n",
    "instance = json.loads(file.content)\n",
    "\n",
    "# Compile schema\n",
    "validate_func = fastjsonschema.compile(schema)\n",
    "\n",
    "# Validate instance against schema\n",
    "validate_func(instance)\n",
    "## {'meta': {'_id': 'f1424f86-ca0f-4f0c-9438-43cc00509931', 'name': 'Green Company', 'created': '2020-04-03T15:53:05.929588', 'modified': '2020-04-03T15:53:05.929588',...\n",
    "## => document is valid\n",
    "\n",
    "\n",
    "# Load another example\n",
    "file = requests.get('https://raw.githubusercontent.com/Transparency-Information-Language/schema/master/tilt-NOT-valid.json')\n",
    "instance = json.loads(file.content)\n",
    "\n",
    "# Validate another example\n",
    "validate_func(instance)\n",
    "## JsonSchemaException: data.controller must contain ['name', 'address', 'country', 'representative'] properties\n",
    "## => document is invalid"
   ]
  }
 ],
 "metadata": {
  "kernelspec": {
   "display_name": "Python 3",
   "language": "python",
   "name": "python3"
  },
  "language_info": {
   "codemirror_mode": {
    "name": "ipython",
    "version": 3
   },
   "file_extension": ".py",
   "mimetype": "text/x-python",
   "name": "python",
   "nbconvert_exporter": "python",
   "pygments_lexer": "ipython3",
   "version": "3.8.4"
  }
 },
 "nbformat": 4,
 "nbformat_minor": 4
}